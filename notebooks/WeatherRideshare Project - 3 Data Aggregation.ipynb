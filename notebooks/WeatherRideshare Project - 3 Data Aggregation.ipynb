{
 "cells": [
  {
   "cell_type": "code",
   "execution_count": 1,
   "metadata": {},
   "outputs": [],
   "source": [
    "import pandas as pd"
   ]
  },
  {
   "cell_type": "code",
   "execution_count": 2,
   "metadata": {},
   "outputs": [],
   "source": [
    "rideshare_filepath = 'filepath/cleaned_fhvhv_tripdata_2024-06.parquet'\n",
    "rideshare_df = pd.read_parquet(rideshare_filepath)"
   ]
  },
  {
   "cell_type": "code",
   "execution_count": 3,
   "metadata": {},
   "outputs": [
    {
     "name": "stdout",
     "output_type": "stream",
     "text": [
      "<class 'pandas.core.frame.DataFrame'>\n",
      "RangeIndex: 20123226 entries, 0 to 20123225\n",
      "Data columns (total 7 columns):\n",
      " #   Column            Dtype         \n",
      "---  ------            -----         \n",
      " 0   pickup_datetime   datetime64[ns]\n",
      " 1   dropoff_datetime  datetime64[ns]\n",
      " 2   PULocationID      int32         \n",
      " 3   DOLocationID      int32         \n",
      " 4   trip_miles        float64       \n",
      " 5   trip_time         int64         \n",
      " 6   trip_duration     float64       \n",
      "dtypes: datetime64[ns](2), float64(2), int32(2), int64(1)\n",
      "memory usage: 921.2 MB\n"
     ]
    }
   ],
   "source": [
    "rideshare_df.info()"
   ]
  },
  {
   "cell_type": "code",
   "execution_count": 4,
   "metadata": {},
   "outputs": [],
   "source": [
    "# Adding is_weekend column\n",
    "rideshare_df['is_weekend'] = rideshare_df['pickup_datetime'].dt.dayofweek.apply(lambda x: 1 if x >= 5 else 0)\n",
    "\n",
    "# Dropping dropoffs, as not needed\n",
    "rideshare_df.drop('dropoff_datetime', axis=1, inplace=True)"
   ]
  },
  {
   "cell_type": "code",
   "execution_count": 5,
   "metadata": {},
   "outputs": [
    {
     "name": "stdout",
     "output_type": "stream",
     "text": [
      "<class 'pandas.core.frame.DataFrame'>\n",
      "RangeIndex: 720 entries, 0 to 719\n",
      "Data columns (total 4 columns):\n",
      " #   Column       Non-Null Count  Dtype \n",
      "---  ------       --------------  ----- \n",
      " 0   pickup_date  720 non-null    object\n",
      " 1   pickup_hour  720 non-null    int64 \n",
      " 2   is_weekend   720 non-null    int64 \n",
      " 3   ride_count   720 non-null    int64 \n",
      "dtypes: int64(3), object(1)\n",
      "memory usage: 22.6+ KB\n"
     ]
    }
   ],
   "source": [
    "# Create new columns for pickup date and hour\n",
    "rideshare_df['pickup_date'] = rideshare_df['pickup_datetime'].dt.date\n",
    "rideshare_df['pickup_hour'] = rideshare_df['pickup_datetime'].dt.hour\n",
    "\n",
    "# Group by date, hour, and is_weekend, and count the number of rides\n",
    "hourly_aggregated_df = rideshare_df.groupby(['pickup_date', 'pickup_hour', 'is_weekend']).size().reset_index(name='ride_count')\n",
    "\n",
    "hourly_aggregated_df.info()"
   ]
  },
  {
   "cell_type": "code",
   "execution_count": null,
   "metadata": {},
   "outputs": [],
   "source": []
  },
  {
   "cell_type": "code",
   "execution_count": 24,
   "metadata": {},
   "outputs": [],
   "source": [
    "weather_filepath = \"filepath/weather_data_june_2024_cleaned.csv\"\n",
    "weather_data = pd.read_csv(weather_filepath)"
   ]
  },
  {
   "cell_type": "code",
   "execution_count": 25,
   "metadata": {},
   "outputs": [
    {
     "name": "stdout",
     "output_type": "stream",
     "text": [
      "<class 'pandas.core.frame.DataFrame'>\n",
      "RangeIndex: 720 entries, 0 to 719\n",
      "Data columns (total 5 columns):\n",
      " #   Column            Non-Null Count  Dtype  \n",
      "---  ------            --------------  -----  \n",
      " 0   datetime          720 non-null    object \n",
      " 1   Temperature (F)   720 non-null    int64  \n",
      " 2   Wind Speed (mph)  720 non-null    int64  \n",
      " 3   Precip. (in)      720 non-null    float64\n",
      " 4   Condition         720 non-null    object \n",
      "dtypes: float64(1), int64(2), object(2)\n",
      "memory usage: 28.2+ KB\n"
     ]
    }
   ],
   "source": [
    "weather_data.info()"
   ]
  },
  {
   "cell_type": "code",
   "execution_count": 26,
   "metadata": {},
   "outputs": [],
   "source": [
    "# Convert 'datetime' column to datetime type\n",
    "weather_data['datetime'] = pd.to_datetime(weather_data['datetime'])\n",
    "\n",
    "# Create dummy variables for the 'Condition' column\n",
    "weather_data_dummies = pd.get_dummies(weather_data, columns=['Condition'])"
   ]
  },
  {
   "cell_type": "code",
   "execution_count": 27,
   "metadata": {},
   "outputs": [
    {
     "name": "stdout",
     "output_type": "stream",
     "text": [
      "<class 'pandas.core.frame.DataFrame'>\n",
      "RangeIndex: 720 entries, 0 to 719\n",
      "Data columns (total 18 columns):\n",
      " #   Column                             Non-Null Count  Dtype         \n",
      "---  ------                             --------------  -----         \n",
      " 0   datetime                           720 non-null    datetime64[ns]\n",
      " 1   Temperature (F)                    720 non-null    int64         \n",
      " 2   Wind Speed (mph)                   720 non-null    int64         \n",
      " 3   Precip. (in)                       720 non-null    float64       \n",
      " 4   Condition_Cloudy                   720 non-null    uint8         \n",
      " 5   Condition_Cloudy / Windy           720 non-null    uint8         \n",
      " 6   Condition_Fair                     720 non-null    uint8         \n",
      " 7   Condition_Fair / Windy             720 non-null    uint8         \n",
      " 8   Condition_Haze                     720 non-null    uint8         \n",
      " 9   Condition_Light Rain               720 non-null    uint8         \n",
      " 10  Condition_Light Rain with Thunder  720 non-null    uint8         \n",
      " 11  Condition_Mist                     720 non-null    uint8         \n",
      " 12  Condition_Mostly Cloudy            720 non-null    uint8         \n",
      " 13  Condition_Mostly Cloudy / Windy    720 non-null    uint8         \n",
      " 14  Condition_Partly Cloudy            720 non-null    uint8         \n",
      " 15  Condition_Partly Cloudy / Windy    720 non-null    uint8         \n",
      " 16  Condition_T-Storm                  720 non-null    uint8         \n",
      " 17  Condition_Thunder                  720 non-null    uint8         \n",
      "dtypes: datetime64[ns](1), float64(1), int64(2), uint8(14)\n",
      "memory usage: 32.5 KB\n"
     ]
    }
   ],
   "source": [
    "weather_data_dummies.info()"
   ]
  },
  {
   "cell_type": "code",
   "execution_count": 28,
   "metadata": {},
   "outputs": [],
   "source": [
    "# Define the new condition categories and their respective original columns\n",
    "condition_categories = {\n",
    "    'Condition_All_Cloudy': [\n",
    "        'Condition_Cloudy', 'Condition_Cloudy / Windy', 'Condition_Mostly Cloudy',\n",
    "        'Condition_Mostly Cloudy / Windy', 'Condition_Partly Cloudy', 'Condition_Partly Cloudy / Windy'\n",
    "    ],\n",
    "    'Condition_All_Fair': ['Condition_Fair', 'Condition_Fair / Windy'],\n",
    "    'Condition_All_Fog': ['Condition_Fog', 'Condition_Haze', 'Condition_Haze / Windy', \n",
    "                      'Condition_Smoke', 'Condition_Smoke / Windy', 'Condition_Mist'],\n",
    "    'Condition_All_Rain': ['Condition_Light Drizzle', 'Condition_Light Rain', 'Condition_Light Rain with Thunder'],\n",
    "    'Condition_All_Thunder': ['Condition_T-Storm', 'Condition_Heavy T-Storm', 'Condition_Thunder', \n",
    "                        'Condition_Thunder in the Vicinity'],\n",
    "}\n",
    "\n",
    "# Loop through each category and merge columns dynamically\n",
    "for new_col, old_cols in condition_categories.items():\n",
    "    # Filter only the columns that exist in the DataFrame\n",
    "    existing_cols = weather_data_dummies.filter(items=old_cols).columns\n",
    "    # Sum the existing columns to create the new column\n",
    "    weather_data_dummies[new_col] = weather_data_dummies[existing_cols].sum(axis=1)\n",
    "\n",
    "# Drop the original condition columns after merging\n",
    "columns_to_drop = [col for cols in condition_categories.values() for col in cols if col in weather_data_dummies.columns]\n",
    "weather_data_dummies.drop(columns=columns_to_drop, inplace=True)"
   ]
  },
  {
   "cell_type": "code",
   "execution_count": 29,
   "metadata": {},
   "outputs": [
    {
     "name": "stdout",
     "output_type": "stream",
     "text": [
      "<class 'pandas.core.frame.DataFrame'>\n",
      "RangeIndex: 720 entries, 0 to 719\n",
      "Data columns (total 9 columns):\n",
      " #   Column                 Non-Null Count  Dtype         \n",
      "---  ------                 --------------  -----         \n",
      " 0   datetime               720 non-null    datetime64[ns]\n",
      " 1   Temperature (F)        720 non-null    int64         \n",
      " 2   Wind Speed (mph)       720 non-null    int64         \n",
      " 3   Precip. (in)           720 non-null    float64       \n",
      " 4   Condition_All_Cloudy   720 non-null    int64         \n",
      " 5   Condition_All_Fair     720 non-null    int64         \n",
      " 6   Condition_All_Fog      720 non-null    int64         \n",
      " 7   Condition_All_Rain     720 non-null    int64         \n",
      " 8   Condition_All_Thunder  720 non-null    int64         \n",
      "dtypes: datetime64[ns](1), float64(1), int64(7)\n",
      "memory usage: 50.8 KB\n"
     ]
    }
   ],
   "source": [
    "weather_data_dummies.info()"
   ]
  },
  {
   "cell_type": "code",
   "execution_count": 30,
   "metadata": {},
   "outputs": [],
   "source": [
    "# Extract date and hour from the datetime column in weather_data_dummies\n",
    "weather_data_dummies['pickup_date'] = weather_data_dummies['datetime'].dt.date\n",
    "weather_data_dummies['pickup_hour'] = weather_data_dummies['datetime'].dt.hour"
   ]
  },
  {
   "cell_type": "code",
   "execution_count": 31,
   "metadata": {},
   "outputs": [],
   "source": [
    "# Merge the two dataframes on pickup_date and pickup_hour\n",
    "merged_df = pd.merge(hourly_aggregated_df, weather_data_dummies, on=['pickup_date', 'pickup_hour'], how='left')\n",
    "\n",
    "# Drop the datetime column as it's no longer needed after the merge\n",
    "merged_df.drop(columns=['datetime'], inplace=True)"
   ]
  },
  {
   "cell_type": "code",
   "execution_count": 34,
   "metadata": {},
   "outputs": [
    {
     "data": {
      "text/html": [
       "<div>\n",
       "<style scoped>\n",
       "    .dataframe tbody tr th:only-of-type {\n",
       "        vertical-align: middle;\n",
       "    }\n",
       "\n",
       "    .dataframe tbody tr th {\n",
       "        vertical-align: top;\n",
       "    }\n",
       "\n",
       "    .dataframe thead th {\n",
       "        text-align: right;\n",
       "    }\n",
       "</style>\n",
       "<table border=\"1\" class=\"dataframe\">\n",
       "  <thead>\n",
       "    <tr style=\"text-align: right;\">\n",
       "      <th></th>\n",
       "      <th>pickup_date</th>\n",
       "      <th>pickup_hour</th>\n",
       "      <th>is_weekend</th>\n",
       "      <th>ride_count</th>\n",
       "      <th>Temperature (F)</th>\n",
       "      <th>Wind Speed (mph)</th>\n",
       "      <th>Precip. (in)</th>\n",
       "      <th>Condition_All_Cloudy</th>\n",
       "      <th>Condition_All_Fair</th>\n",
       "      <th>Condition_All_Fog</th>\n",
       "      <th>Condition_All_Rain</th>\n",
       "      <th>Condition_All_Thunder</th>\n",
       "    </tr>\n",
       "  </thead>\n",
       "  <tbody>\n",
       "    <tr>\n",
       "      <th>0</th>\n",
       "      <td>2024-06-01</td>\n",
       "      <td>0</td>\n",
       "      <td>1</td>\n",
       "      <td>38854</td>\n",
       "      <td>67</td>\n",
       "      <td>10</td>\n",
       "      <td>0.0</td>\n",
       "      <td>0</td>\n",
       "      <td>1</td>\n",
       "      <td>0</td>\n",
       "      <td>0</td>\n",
       "      <td>0</td>\n",
       "    </tr>\n",
       "    <tr>\n",
       "      <th>1</th>\n",
       "      <td>2024-06-01</td>\n",
       "      <td>1</td>\n",
       "      <td>1</td>\n",
       "      <td>30675</td>\n",
       "      <td>67</td>\n",
       "      <td>10</td>\n",
       "      <td>0.0</td>\n",
       "      <td>0</td>\n",
       "      <td>1</td>\n",
       "      <td>0</td>\n",
       "      <td>0</td>\n",
       "      <td>0</td>\n",
       "    </tr>\n",
       "    <tr>\n",
       "      <th>2</th>\n",
       "      <td>2024-06-01</td>\n",
       "      <td>2</td>\n",
       "      <td>1</td>\n",
       "      <td>22535</td>\n",
       "      <td>66</td>\n",
       "      <td>9</td>\n",
       "      <td>0.0</td>\n",
       "      <td>0</td>\n",
       "      <td>1</td>\n",
       "      <td>0</td>\n",
       "      <td>0</td>\n",
       "      <td>0</td>\n",
       "    </tr>\n",
       "    <tr>\n",
       "      <th>3</th>\n",
       "      <td>2024-06-01</td>\n",
       "      <td>3</td>\n",
       "      <td>1</td>\n",
       "      <td>17082</td>\n",
       "      <td>65</td>\n",
       "      <td>3</td>\n",
       "      <td>0.0</td>\n",
       "      <td>0</td>\n",
       "      <td>1</td>\n",
       "      <td>0</td>\n",
       "      <td>0</td>\n",
       "      <td>0</td>\n",
       "    </tr>\n",
       "    <tr>\n",
       "      <th>4</th>\n",
       "      <td>2024-06-01</td>\n",
       "      <td>4</td>\n",
       "      <td>1</td>\n",
       "      <td>13947</td>\n",
       "      <td>64</td>\n",
       "      <td>12</td>\n",
       "      <td>0.0</td>\n",
       "      <td>0</td>\n",
       "      <td>1</td>\n",
       "      <td>0</td>\n",
       "      <td>0</td>\n",
       "      <td>0</td>\n",
       "    </tr>\n",
       "  </tbody>\n",
       "</table>\n",
       "</div>"
      ],
      "text/plain": [
       "  pickup_date  pickup_hour  is_weekend  ride_count  Temperature (F)  \\\n",
       "0  2024-06-01            0           1       38854               67   \n",
       "1  2024-06-01            1           1       30675               67   \n",
       "2  2024-06-01            2           1       22535               66   \n",
       "3  2024-06-01            3           1       17082               65   \n",
       "4  2024-06-01            4           1       13947               64   \n",
       "\n",
       "   Wind Speed (mph)  Precip. (in)  Condition_All_Cloudy  Condition_All_Fair  \\\n",
       "0                10           0.0                     0                   1   \n",
       "1                10           0.0                     0                   1   \n",
       "2                 9           0.0                     0                   1   \n",
       "3                 3           0.0                     0                   1   \n",
       "4                12           0.0                     0                   1   \n",
       "\n",
       "   Condition_All_Fog  Condition_All_Rain  Condition_All_Thunder  \n",
       "0                  0                   0                      0  \n",
       "1                  0                   0                      0  \n",
       "2                  0                   0                      0  \n",
       "3                  0                   0                      0  \n",
       "4                  0                   0                      0  "
      ]
     },
     "execution_count": 34,
     "metadata": {},
     "output_type": "execute_result"
    }
   ],
   "source": [
    "# Final check to make sure merge is correct\n",
    "merged_df.head()"
   ]
  },
  {
   "cell_type": "code",
   "execution_count": null,
   "metadata": {},
   "outputs": [],
   "source": [
    "export_filepath = 'filepath/aggregated_fhvhv_tripdata_2023-06.csv'\n",
    "merged_df.to_csv(export_filepath)"
   ]
  }
 ],
 "metadata": {
  "kernelspec": {
   "display_name": "Python 3 (ipykernel)",
   "language": "python",
   "name": "python3"
  },
  "language_info": {
   "codemirror_mode": {
    "name": "ipython",
    "version": 3
   },
   "file_extension": ".py",
   "mimetype": "text/x-python",
   "name": "python",
   "nbconvert_exporter": "python",
   "pygments_lexer": "ipython3",
   "version": "3.10.9"
  }
 },
 "nbformat": 4,
 "nbformat_minor": 2
}
