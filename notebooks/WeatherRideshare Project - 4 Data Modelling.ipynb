{
 "cells": [
  {
   "cell_type": "code",
   "execution_count": 1,
   "id": "ae3fbe83",
   "metadata": {},
   "outputs": [],
   "source": [
    "import pandas as pd\n",
    "from tabulate import tabulate\n",
    "\n",
    "from sklearn.model_selection import train_test_split, cross_val_score\n",
    "from sklearn.ensemble import RandomForestRegressor\n",
    "from sklearn.metrics import mean_squared_error, r2_score"
   ]
  },
  {
   "cell_type": "code",
   "execution_count": 18,
   "id": "29b9841b",
   "metadata": {},
   "outputs": [],
   "source": [
    "agg_filepath = 'filepath/aggregated_fhvhv_tripdata_2024-06.csv'\n",
    "agg_df = pd.read_csv(agg_filepath)"
   ]
  },
  {
   "cell_type": "code",
   "execution_count": 19,
   "id": "d00ae5bb",
   "metadata": {},
   "outputs": [
    {
     "name": "stdout",
     "output_type": "stream",
     "text": [
      "<class 'pandas.core.frame.DataFrame'>\n",
      "RangeIndex: 720 entries, 0 to 719\n",
      "Data columns (total 12 columns):\n",
      " #   Column                Non-Null Count  Dtype  \n",
      "---  ------                --------------  -----  \n",
      " 0   pickup_date           720 non-null    object \n",
      " 1   pickup_hour           720 non-null    int64  \n",
      " 2   is_weekend            720 non-null    int64  \n",
      " 3   ride_count            720 non-null    int64  \n",
      " 4   Temperature (F)       720 non-null    int64  \n",
      " 5   Wind Speed (mph)      720 non-null    int64  \n",
      " 6   Precip. (in)          720 non-null    float64\n",
      " 7   Condition_All_Cloudy  720 non-null    int64  \n",
      " 8   Condition_All_Fair    720 non-null    int64  \n",
      " 9   Condition_All_Fog     720 non-null    int64  \n",
      " 10  Condition_All_Rain    720 non-null    int64  \n",
      " 11  Condition_All_Storm   720 non-null    int64  \n",
      "dtypes: float64(1), int64(10), object(1)\n",
      "memory usage: 67.6+ KB\n"
     ]
    }
   ],
   "source": [
    "# Confirming data types are correct\n",
    "agg_df.info()"
   ]
  },
  {
   "cell_type": "code",
   "execution_count": 20,
   "id": "b12ac220",
   "metadata": {},
   "outputs": [
    {
     "name": "stdout",
     "output_type": "stream",
     "text": [
      "Mean Squared Error: 2910025.33\n",
      "R^2 Score: 0.97\n"
     ]
    }
   ],
   "source": [
    "# Convert 'pickup_date' to datetime format\n",
    "agg_df['pickup_date'] = pd.to_datetime(agg_df['pickup_date'])\n",
    "\n",
    "# Decided day of week, and day of month to be better features than 'is_weekend'\n",
    "# Extract day, day of the week, and month from 'pickup_date'\n",
    "agg_df['day_of_month'] = agg_df['pickup_date'].dt.day\n",
    "agg_df['day_of_week'] = agg_df['pickup_date'].dt.dayofweek\n",
    "\n",
    "# Drop the redundant columns\n",
    "agg_df = agg_df.drop(columns=['pickup_date', 'is_weekend'])\n",
    "\n",
    "# Define the feature matrix (X) and the target vector (y)\n",
    "X = agg_df.drop(columns=['ride_count'])\n",
    "y = agg_df['ride_count']\n",
    "\n",
    "# Split the data into training and testing sets\n",
    "X_train, X_test, y_train, y_test = train_test_split(X, y, test_size=0.2, random_state=42)\n",
    "\n",
    "# Initialize the Random Forest Regressor\n",
    "rf_model = RandomForestRegressor(n_estimators=100, random_state=42)\n",
    "\n",
    "# Train the model\n",
    "rf_model.fit(X_train, y_train)\n",
    "\n",
    "# Predict on the test data\n",
    "y_pred = rf_model.predict(X_test)\n",
    "\n",
    "# Evaluate the model\n",
    "mse = mean_squared_error(y_test, y_pred)\n",
    "r2 = r2_score(y_test, y_pred)\n",
    "\n",
    "print(f\"Mean Squared Error: {mse:.2f}\")\n",
    "print(f\"R^2 Score: {r2:.2f}\")"
   ]
  },
  {
   "cell_type": "code",
   "execution_count": 13,
   "id": "1775a42d",
   "metadata": {},
   "outputs": [
    {
     "name": "stdout",
     "output_type": "stream",
     "text": [
      "    Feature                 Importance\n",
      "--  --------------------  ------------\n",
      " 0  pickup_hour            0.778395\n",
      "10  day_of_week            0.176905\n",
      " 1  Temperature (F)        0.0153234\n",
      " 9  day_of_month           0.0144242\n",
      " 2  Wind Speed (mph)       0.00969672\n",
      " 7  Condition_All_Rain     0.00194023\n",
      " 6  Condition_All_Fog      0.00118242\n",
      " 5  Condition_All_Fair     0.000992567\n",
      " 4  Condition_All_Cloudy   0.00099184\n",
      " 3  Precip. (in)           0.000126894\n",
      " 8  Condition_All_Storm    2.17364e-05\n",
      "None\n"
     ]
    }
   ],
   "source": [
    "# Check which features are most important\n",
    "feature_importances = rf_model.feature_importances_\n",
    "feature_names = X.columns\n",
    "importance_df = pd.DataFrame({'Feature': feature_names, 'Importance': feature_importances})\n",
    "importance_df = importance_df.sort_values(by='Importance', ascending=False)\n",
    "print(print(tabulate(importance_df, headers='keys')))"
   ]
  },
  {
   "cell_type": "code",
   "execution_count": 14,
   "id": "a1d08f24",
   "metadata": {},
   "outputs": [
    {
     "name": "stdout",
     "output_type": "stream",
     "text": [
      "Cross-validated R-squared scores: [0.97100246 0.97862778 0.95121257 0.9257694  0.92426305]\n",
      "Mean R-squared score: 0.9501750532625156\n"
     ]
    }
   ],
   "source": [
    "# Cross-validating model\n",
    "cv_scores = cross_val_score(rf_model, X, y, cv=5, scoring='r2')\n",
    "print(f\"Cross-validated R-squared scores: {cv_scores}\")\n",
    "print(f\"Mean R-squared score: {cv_scores.mean()}\")"
   ]
  },
  {
   "cell_type": "code",
   "execution_count": 16,
   "id": "4cd5c663",
   "metadata": {},
   "outputs": [],
   "source": [
    "# Testing model with data from previous year (June 2023)\n",
    "historical_filepath = 'filepath/aggregated_fhvhv_tripdata_2023-06.csv'\n",
    "historical_df = pd.read_csv(historical_filepath)"
   ]
  },
  {
   "cell_type": "code",
   "execution_count": 17,
   "id": "f3b2cc21",
   "metadata": {},
   "outputs": [
    {
     "name": "stdout",
     "output_type": "stream",
     "text": [
      "Mean Squared Error on Historical Data: 6148060.77\n",
      "R^2 Score on Historical Data: 0.94\n"
     ]
    }
   ],
   "source": [
    "# Convert 'pickup_date' to datetime format\n",
    "historical_df['pickup_date'] = pd.to_datetime(historical_df['pickup_date'])\n",
    "\n",
    "# Extract day of the month and day of the week from 'pickup_date'\n",
    "historical_df['day_of_month'] = historical_df['pickup_date'].dt.day\n",
    "historical_df['day_of_week'] = historical_df['pickup_date'].dt.dayofweek\n",
    "\n",
    "# Drop the original 'pickup_date' and 'is_weekend' columns since they're not needed\n",
    "historical_df = historical_df.drop(columns=['pickup_date', 'is_weekend'])\n",
    "\n",
    "# Define the feature matrix (X) for the historical dataset\n",
    "X_historical = historical_df.drop(columns=['ride_count'])\n",
    "\n",
    "# Use the trained model to predict ride count on the historical dataset\n",
    "y_historical_pred = rf_model.predict(X_historical)\n",
    "\n",
    "# Calculate the Mean Squared Error and R^2 score for the historical dataset\n",
    "mse_historical = mean_squared_error(historical_df['ride_count'], y_historical_pred)\n",
    "r2_historical = r2_score(historical_df['ride_count'], y_historical_pred)\n",
    "\n",
    "print(f\"Mean Squared Error on Historical Data: {mse_historical:.2f}\")\n",
    "print(f\"R^2 Score on Historical Data: {r2_historical:.2f}\")"
   ]
  },
  {
   "cell_type": "code",
   "execution_count": null,
   "id": "3b4d2670",
   "metadata": {},
   "outputs": [],
   "source": []
  }
 ],
 "metadata": {
  "kernelspec": {
   "display_name": "Python 3 (ipykernel)",
   "language": "python",
   "name": "python3"
  },
  "language_info": {
   "codemirror_mode": {
    "name": "ipython",
    "version": 3
   },
   "file_extension": ".py",
   "mimetype": "text/x-python",
   "name": "python",
   "nbconvert_exporter": "python",
   "pygments_lexer": "ipython3",
   "version": "3.10.9"
  }
 },
 "nbformat": 4,
 "nbformat_minor": 5
}
