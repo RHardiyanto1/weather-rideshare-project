{
 "cells": [
  {
   "cell_type": "code",
   "execution_count": 1,
   "id": "02e13a8d",
   "metadata": {},
   "outputs": [],
   "source": [
    "import pandas as pd"
   ]
  },
  {
   "cell_type": "code",
   "execution_count": 13,
   "id": "35338462",
   "metadata": {},
   "outputs": [],
   "source": [
    "# Read the parquet file\n",
    "file_path = 'filepath/fhvhv_tripdata_2024-06.parquet'\n",
    "df = pd.read_parquet(file_path)"
   ]
  },
  {
   "cell_type": "code",
   "execution_count": 14,
   "id": "e726982b",
   "metadata": {},
   "outputs": [
    {
     "name": "stdout",
     "output_type": "stream",
     "text": [
      "<class 'pandas.core.frame.DataFrame'>\n",
      "RangeIndex: 20123226 entries, 0 to 20123225\n",
      "Data columns (total 24 columns):\n",
      " #   Column                Dtype         \n",
      "---  ------                -----         \n",
      " 0   hvfhs_license_num     object        \n",
      " 1   dispatching_base_num  object        \n",
      " 2   originating_base_num  object        \n",
      " 3   request_datetime      datetime64[ns]\n",
      " 4   on_scene_datetime     datetime64[ns]\n",
      " 5   pickup_datetime       datetime64[ns]\n",
      " 6   dropoff_datetime      datetime64[ns]\n",
      " 7   PULocationID          int32         \n",
      " 8   DOLocationID          int32         \n",
      " 9   trip_miles            float64       \n",
      " 10  trip_time             int64         \n",
      " 11  base_passenger_fare   float64       \n",
      " 12  tolls                 float64       \n",
      " 13  bcf                   float64       \n",
      " 14  sales_tax             float64       \n",
      " 15  congestion_surcharge  float64       \n",
      " 16  airport_fee           float64       \n",
      " 17  tips                  float64       \n",
      " 18  driver_pay            float64       \n",
      " 19  shared_request_flag   object        \n",
      " 20  shared_match_flag     object        \n",
      " 21  access_a_ride_flag    object        \n",
      " 22  wav_request_flag      object        \n",
      " 23  wav_match_flag        object        \n",
      "dtypes: datetime64[ns](4), float64(9), int32(2), int64(1), object(8)\n",
      "memory usage: 3.4+ GB\n"
     ]
    }
   ],
   "source": [
    "df.info()"
   ]
  },
  {
   "cell_type": "code",
   "execution_count": 15,
   "id": "7a2565ff",
   "metadata": {},
   "outputs": [],
   "source": [
    "# List of columns to drop\n",
    "columns_to_drop = [\n",
    "    'hvfhs_license_num', 'dispatching_base_num', 'originating_base_num', \n",
    "    'request_datetime', 'on_scene_datetime', 'base_passenger_fare', 'tolls', \n",
    "    'bcf', 'sales_tax', 'congestion_surcharge', 'airport_fee', 'tips', \n",
    "    'driver_pay', 'shared_request_flag', 'shared_match_flag', 'access_a_ride_flag', \n",
    "    'wav_request_flag', 'wav_match_flag', 'dropoff_datetime', 'DOLocationID'\n",
    "]\n",
    "\n",
    "df = df.drop(columns=columns_to_drop)"
   ]
  },
  {
   "cell_type": "code",
   "execution_count": 16,
   "id": "62584435",
   "metadata": {},
   "outputs": [
    {
     "name": "stdout",
     "output_type": "stream",
     "text": [
      "<class 'pandas.core.frame.DataFrame'>\n",
      "RangeIndex: 20123226 entries, 0 to 20123225\n",
      "Data columns (total 4 columns):\n",
      " #   Column           Dtype         \n",
      "---  ------           -----         \n",
      " 0   pickup_datetime  datetime64[ns]\n",
      " 1   PULocationID     int32         \n",
      " 2   trip_miles       float64       \n",
      " 3   trip_time        int64         \n",
      "dtypes: datetime64[ns](1), float64(1), int32(1), int64(1)\n",
      "memory usage: 537.3 MB\n"
     ]
    }
   ],
   "source": [
    "df.info()"
   ]
  },
  {
   "cell_type": "code",
   "execution_count": 17,
   "id": "7812fa20",
   "metadata": {},
   "outputs": [],
   "source": [
    "# Removing rows with no pickup or dropoff times\n",
    "df.dropna(subset=['pickup_datetime'], inplace=True)"
   ]
  },
  {
   "cell_type": "code",
   "execution_count": 18,
   "id": "fd62301e",
   "metadata": {},
   "outputs": [
    {
     "name": "stdout",
     "output_type": "stream",
     "text": [
      "<class 'pandas.core.frame.DataFrame'>\n",
      "RangeIndex: 20123226 entries, 0 to 20123225\n",
      "Data columns (total 4 columns):\n",
      " #   Column           Dtype         \n",
      "---  ------           -----         \n",
      " 0   pickup_datetime  datetime64[ns]\n",
      " 1   PULocationID     int32         \n",
      " 2   trip_miles       float64       \n",
      " 3   trip_time        int64         \n",
      "dtypes: datetime64[ns](1), float64(1), int32(1), int64(1)\n",
      "memory usage: 537.3 MB\n"
     ]
    },
    {
     "data": {
      "text/html": [
       "<div>\n",
       "<style scoped>\n",
       "    .dataframe tbody tr th:only-of-type {\n",
       "        vertical-align: middle;\n",
       "    }\n",
       "\n",
       "    .dataframe tbody tr th {\n",
       "        vertical-align: top;\n",
       "    }\n",
       "\n",
       "    .dataframe thead th {\n",
       "        text-align: right;\n",
       "    }\n",
       "</style>\n",
       "<table border=\"1\" class=\"dataframe\">\n",
       "  <thead>\n",
       "    <tr style=\"text-align: right;\">\n",
       "      <th></th>\n",
       "      <th>PULocationID</th>\n",
       "      <th>trip_miles</th>\n",
       "      <th>trip_time</th>\n",
       "    </tr>\n",
       "  </thead>\n",
       "  <tbody>\n",
       "    <tr>\n",
       "      <th>count</th>\n",
       "      <td>2.012323e+07</td>\n",
       "      <td>2.012323e+07</td>\n",
       "      <td>2.012323e+07</td>\n",
       "    </tr>\n",
       "    <tr>\n",
       "      <th>mean</th>\n",
       "      <td>1.380636e+02</td>\n",
       "      <td>5.172981e+00</td>\n",
       "      <td>1.240024e+03</td>\n",
       "    </tr>\n",
       "    <tr>\n",
       "      <th>std</th>\n",
       "      <td>7.493934e+01</td>\n",
       "      <td>5.990272e+00</td>\n",
       "      <td>9.031166e+02</td>\n",
       "    </tr>\n",
       "    <tr>\n",
       "      <th>min</th>\n",
       "      <td>2.000000e+00</td>\n",
       "      <td>0.000000e+00</td>\n",
       "      <td>0.000000e+00</td>\n",
       "    </tr>\n",
       "    <tr>\n",
       "      <th>25%</th>\n",
       "      <td>7.500000e+01</td>\n",
       "      <td>1.620000e+00</td>\n",
       "      <td>6.190000e+02</td>\n",
       "    </tr>\n",
       "    <tr>\n",
       "      <th>50%</th>\n",
       "      <td>1.380000e+02</td>\n",
       "      <td>3.100000e+00</td>\n",
       "      <td>1.001000e+03</td>\n",
       "    </tr>\n",
       "    <tr>\n",
       "      <th>75%</th>\n",
       "      <td>2.090000e+02</td>\n",
       "      <td>6.490000e+00</td>\n",
       "      <td>1.590000e+03</td>\n",
       "    </tr>\n",
       "    <tr>\n",
       "      <th>max</th>\n",
       "      <td>2.650000e+02</td>\n",
       "      <td>3.635500e+02</td>\n",
       "      <td>3.615600e+04</td>\n",
       "    </tr>\n",
       "  </tbody>\n",
       "</table>\n",
       "</div>"
      ],
      "text/plain": [
       "       PULocationID    trip_miles     trip_time\n",
       "count  2.012323e+07  2.012323e+07  2.012323e+07\n",
       "mean   1.380636e+02  5.172981e+00  1.240024e+03\n",
       "std    7.493934e+01  5.990272e+00  9.031166e+02\n",
       "min    2.000000e+00  0.000000e+00  0.000000e+00\n",
       "25%    7.500000e+01  1.620000e+00  6.190000e+02\n",
       "50%    1.380000e+02  3.100000e+00  1.001000e+03\n",
       "75%    2.090000e+02  6.490000e+00  1.590000e+03\n",
       "max    2.650000e+02  3.635500e+02  3.615600e+04"
      ]
     },
     "execution_count": 18,
     "metadata": {},
     "output_type": "execute_result"
    }
   ],
   "source": [
    "df.info()\n",
    "df.describe()"
   ]
  },
  {
   "cell_type": "code",
   "execution_count": 19,
   "id": "a45c4db0",
   "metadata": {},
   "outputs": [],
   "source": [
    "# Notes from summary table: trips with zero miles and/or minutes\n",
    "#                           outliers with very large distances and long times\n",
    "\n",
    "# Filtering outliers from the data\n",
    "cutoff_miles = df['trip_miles'].quantile(.995)\n",
    "cutoff_time = df['trip_time'].quantile(.995)\n",
    "\n",
    "df = df[(df['trip_miles'] > 0.05) &\n",
    "        (df['trip_time'] >= 60) &\n",
    "        (df['trip_miles'] <= cutoff_miles) &\n",
    "        (df['trip_time'] <= cutoff_time)\n",
    "       ] "
   ]
  },
  {
   "cell_type": "code",
   "execution_count": 20,
   "id": "cedbcdf0",
   "metadata": {},
   "outputs": [
    {
     "name": "stdout",
     "output_type": "stream",
     "text": [
      "<class 'pandas.core.frame.DataFrame'>\n",
      "Int64Index: 19949628 entries, 0 to 20123225\n",
      "Data columns (total 4 columns):\n",
      " #   Column           Dtype         \n",
      "---  ------           -----         \n",
      " 0   pickup_datetime  datetime64[ns]\n",
      " 1   PULocationID     int32         \n",
      " 2   trip_miles       float64       \n",
      " 3   trip_time        int64         \n",
      "dtypes: datetime64[ns](1), float64(1), int32(1), int64(1)\n",
      "memory usage: 684.9 MB\n"
     ]
    },
    {
     "data": {
      "text/html": [
       "<div>\n",
       "<style scoped>\n",
       "    .dataframe tbody tr th:only-of-type {\n",
       "        vertical-align: middle;\n",
       "    }\n",
       "\n",
       "    .dataframe tbody tr th {\n",
       "        vertical-align: top;\n",
       "    }\n",
       "\n",
       "    .dataframe thead th {\n",
       "        text-align: right;\n",
       "    }\n",
       "</style>\n",
       "<table border=\"1\" class=\"dataframe\">\n",
       "  <thead>\n",
       "    <tr style=\"text-align: right;\">\n",
       "      <th></th>\n",
       "      <th>PULocationID</th>\n",
       "      <th>trip_miles</th>\n",
       "      <th>trip_time</th>\n",
       "    </tr>\n",
       "  </thead>\n",
       "  <tbody>\n",
       "    <tr>\n",
       "      <th>count</th>\n",
       "      <td>1.994963e+07</td>\n",
       "      <td>1.994963e+07</td>\n",
       "      <td>1.994963e+07</td>\n",
       "    </tr>\n",
       "    <tr>\n",
       "      <th>mean</th>\n",
       "      <td>1.380168e+02</td>\n",
       "      <td>4.906277e+00</td>\n",
       "      <td>1.205940e+03</td>\n",
       "    </tr>\n",
       "    <tr>\n",
       "      <th>std</th>\n",
       "      <td>7.504665e+01</td>\n",
       "      <td>4.942874e+00</td>\n",
       "      <td>8.120541e+02</td>\n",
       "    </tr>\n",
       "    <tr>\n",
       "      <th>min</th>\n",
       "      <td>2.000000e+00</td>\n",
       "      <td>5.100000e-02</td>\n",
       "      <td>6.000000e+01</td>\n",
       "    </tr>\n",
       "    <tr>\n",
       "      <th>25%</th>\n",
       "      <td>7.400000e+01</td>\n",
       "      <td>1.610000e+00</td>\n",
       "      <td>6.160000e+02</td>\n",
       "    </tr>\n",
       "    <tr>\n",
       "      <th>50%</th>\n",
       "      <td>1.380000e+02</td>\n",
       "      <td>3.070000e+00</td>\n",
       "      <td>9.940000e+02</td>\n",
       "    </tr>\n",
       "    <tr>\n",
       "      <th>75%</th>\n",
       "      <td>2.090000e+02</td>\n",
       "      <td>6.350000e+00</td>\n",
       "      <td>1.569000e+03</td>\n",
       "    </tr>\n",
       "    <tr>\n",
       "      <th>max</th>\n",
       "      <td>2.650000e+02</td>\n",
       "      <td>3.429500e+01</td>\n",
       "      <td>5.149000e+03</td>\n",
       "    </tr>\n",
       "  </tbody>\n",
       "</table>\n",
       "</div>"
      ],
      "text/plain": [
       "       PULocationID    trip_miles     trip_time\n",
       "count  1.994963e+07  1.994963e+07  1.994963e+07\n",
       "mean   1.380168e+02  4.906277e+00  1.205940e+03\n",
       "std    7.504665e+01  4.942874e+00  8.120541e+02\n",
       "min    2.000000e+00  5.100000e-02  6.000000e+01\n",
       "25%    7.400000e+01  1.610000e+00  6.160000e+02\n",
       "50%    1.380000e+02  3.070000e+00  9.940000e+02\n",
       "75%    2.090000e+02  6.350000e+00  1.569000e+03\n",
       "max    2.650000e+02  3.429500e+01  5.149000e+03"
      ]
     },
     "execution_count": 20,
     "metadata": {},
     "output_type": "execute_result"
    }
   ],
   "source": [
    "df.info()\n",
    "df.describe()"
   ]
  },
  {
   "cell_type": "code",
   "execution_count": 21,
   "id": "c565c653",
   "metadata": {},
   "outputs": [],
   "source": [
    "# Notes from outlier removed summary table: significant decrease in std for time and distance\n",
    "#                                           outliers had large effect on the variance"
   ]
  },
  {
   "cell_type": "code",
   "execution_count": 14,
   "id": "0d3ec62f",
   "metadata": {},
   "outputs": [],
   "source": [
    "# Saving cleaned data\n",
    "cleaned_file_path = 'filepath/cleaned_fhvhv_tripdata_2024-06.parquet'\n",
    "df.to_parquet(cleaned_file_path)"
   ]
  },
  {
   "cell_type": "code",
   "execution_count": null,
   "id": "b942ff65",
   "metadata": {},
   "outputs": [],
   "source": []
  },
  {
   "cell_type": "code",
   "execution_count": 23,
   "id": "d90c8f2f",
   "metadata": {},
   "outputs": [],
   "source": [
    "# Saving sample of cleaned data for github\n",
    "df_sample = df.sample(frac=0.02, random_state=42)\n",
    "df_sample_filepath = 'filepath/sample_cleaned_fhvhv_tripdata_2024-06.parquet'\n",
    "df_sample.to_parquet(df_sample_filepath)"
   ]
  },
  {
   "cell_type": "code",
   "execution_count": null,
   "id": "cfa6f1fe",
   "metadata": {},
   "outputs": [],
   "source": []
  },
  {
   "cell_type": "code",
   "execution_count": null,
   "id": "bb1fc959",
   "metadata": {},
   "outputs": [],
   "source": []
  }
 ],
 "metadata": {
  "kernelspec": {
   "display_name": "Python 3 (ipykernel)",
   "language": "python",
   "name": "python3"
  },
  "language_info": {
   "codemirror_mode": {
    "name": "ipython",
    "version": 3
   },
   "file_extension": ".py",
   "mimetype": "text/x-python",
   "name": "python",
   "nbconvert_exporter": "python",
   "pygments_lexer": "ipython3",
   "version": "3.10.9"
  }
 },
 "nbformat": 4,
 "nbformat_minor": 5
}
